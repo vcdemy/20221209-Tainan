{
  "nbformat": 4,
  "nbformat_minor": 0,
  "metadata": {
    "colab": {
      "provenance": [],
      "private_outputs": true,
      "authorship_tag": "ABX9TyM0nCRxVYYAbwNKhUNCkwn1",
      "include_colab_link": true
    },
    "kernelspec": {
      "name": "python3",
      "display_name": "Python 3"
    },
    "language_info": {
      "name": "python"
    },
    "accelerator": "GPU",
    "gpuClass": "standard"
  },
  "cells": [
    {
      "cell_type": "markdown",
      "metadata": {
        "id": "view-in-github",
        "colab_type": "text"
      },
      "source": [
        "<a href=\"https://colab.research.google.com/github/vcdemy/20221209-Tainan/blob/main/20221209_%E4%BA%BA%E8%87%89%E8%BE%A8%E8%AD%98.ipynb\" target=\"_parent\"><img src=\"https://colab.research.google.com/assets/colab-badge.svg\" alt=\"Open In Colab\"/></a>"
      ]
    },
    {
      "cell_type": "markdown",
      "source": [
        "# 人臉辨識"
      ],
      "metadata": {
        "id": "B4t9tFS9693z"
      }
    },
    {
      "cell_type": "markdown",
      "source": [
        "## 安裝套件\n",
        "\n",
        "colab 的 runtime type 需要選 GPU, face_recognition 套件的使用才不會有問題。"
      ],
      "metadata": {
        "id": "QcYN-ecr62XY"
      }
    },
    {
      "cell_type": "code",
      "source": [
        "!pip install face_recognition"
      ],
      "metadata": {
        "id": "wUUAU-eA7p7Q"
      },
      "execution_count": null,
      "outputs": []
    },
    {
      "cell_type": "code",
      "source": [
        "!pip install gradio"
      ],
      "metadata": {
        "id": "hXkkyjTf6cLq"
      },
      "execution_count": null,
      "outputs": []
    },
    {
      "cell_type": "markdown",
      "source": [
        "## 載入套件"
      ],
      "metadata": {
        "id": "Gk1Ohock65SV"
      }
    },
    {
      "cell_type": "code",
      "source": [
        "import face_recognition"
      ],
      "metadata": {
        "id": "DBhTJTZe7mD-"
      },
      "execution_count": null,
      "outputs": []
    },
    {
      "cell_type": "code",
      "source": [
        "from PIL import Image\n",
        "import gradio as gr"
      ],
      "metadata": {
        "id": "Zfbvt-CD6YY1"
      },
      "execution_count": null,
      "outputs": []
    },
    {
      "cell_type": "code",
      "source": [
        "import glob"
      ],
      "metadata": {
        "id": "v8775Ksj7UYu"
      },
      "execution_count": null,
      "outputs": []
    },
    {
      "cell_type": "code",
      "source": [
        "import numpy as np"
      ],
      "metadata": {
        "id": "l36BKsIgq_HJ"
      },
      "execution_count": null,
      "outputs": []
    },
    {
      "cell_type": "markdown",
      "source": [
        "## 蒐集圖片"
      ],
      "metadata": {
        "id": "q3KdcCP-7HCp"
      }
    },
    {
      "cell_type": "code",
      "execution_count": null,
      "metadata": {
        "id": "3CsZ1PKV5Uif"
      },
      "outputs": [],
      "source": [
        "def collect(img_name, image):\n",
        "  image.save(img_name+'.jpg')\n",
        "  return image.convert(\"L\")"
      ]
    },
    {
      "cell_type": "code",
      "source": [
        "gr.Interface(collect, ['text','pil'], \"pil\").launch(share=True)"
      ],
      "metadata": {
        "id": "ckPHlzVT6Xn8"
      },
      "execution_count": null,
      "outputs": []
    },
    {
      "cell_type": "code",
      "source": [
        "filenames = glob.glob(\"*.jpg\")"
      ],
      "metadata": {
        "id": "JCH0sqWy7W4-"
      },
      "execution_count": null,
      "outputs": []
    },
    {
      "cell_type": "code",
      "source": [
        "filenames"
      ],
      "metadata": {
        "id": "nd2x1jZL7Zin"
      },
      "execution_count": null,
      "outputs": []
    },
    {
      "cell_type": "markdown",
      "source": [
        "## 讀取人臉特徵"
      ],
      "metadata": {
        "id": "EPDCeVTC7B6Z"
      }
    },
    {
      "cell_type": "code",
      "source": [
        "known_faces = []\n",
        "for filename in filenames:\n",
        "  face = face_recognition.load_image_file(filename)\n",
        "  face_encoding = face_recognition.face_encodings(face)[0]\n",
        "  known_faces.append(face_encoding)"
      ],
      "metadata": {
        "id": "wX7dNRxj6sXE"
      },
      "execution_count": null,
      "outputs": []
    },
    {
      "cell_type": "markdown",
      "source": [
        "## 進行人臉辨識"
      ],
      "metadata": {
        "id": "BukNhqU78FJR"
      }
    },
    {
      "cell_type": "code",
      "source": [
        "def who(image):\n",
        "  encoding = face_recognition.face_encodings(image)[0]\n",
        "  x = face_recognition.face_distance(known_faces, encoding)\n",
        "  filename = filenames[np.argmin(x)]\n",
        "  return Image.open(filename)"
      ],
      "metadata": {
        "id": "3zDXpdWx8EuF"
      },
      "execution_count": null,
      "outputs": []
    },
    {
      "cell_type": "code",
      "source": [
        "gr.Interface(who, \"image\", \"pil\").launch(share=True)"
      ],
      "metadata": {
        "id": "J-JaLWAF8haA"
      },
      "execution_count": null,
      "outputs": []
    }
  ]
}