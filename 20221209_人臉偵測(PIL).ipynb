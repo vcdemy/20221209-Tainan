{
  "nbformat": 4,
  "nbformat_minor": 0,
  "metadata": {
    "colab": {
      "provenance": [],
      "authorship_tag": "ABX9TyOvl/aL7DDsPE1RVyb9TK5z",
      "include_colab_link": true
    },
    "kernelspec": {
      "name": "python3",
      "display_name": "Python 3"
    },
    "language_info": {
      "name": "python"
    }
  },
  "cells": [
    {
      "cell_type": "markdown",
      "metadata": {
        "id": "view-in-github",
        "colab_type": "text"
      },
      "source": [
        "<a href=\"https://colab.research.google.com/github/vcdemy/20221209-Tainan/blob/main/20221209_%E4%BA%BA%E8%87%89%E5%81%B5%E6%B8%AC(PIL).ipynb\" target=\"_parent\"><img src=\"https://colab.research.google.com/assets/colab-badge.svg\" alt=\"Open In Colab\"/></a>"
      ]
    },
    {
      "cell_type": "markdown",
      "source": [
        "# 人臉偵測"
      ],
      "metadata": {
        "id": "6Wnzpdeo3wga"
      }
    },
    {
      "cell_type": "markdown",
      "source": [
        "## 安裝套件"
      ],
      "metadata": {
        "id": "I5enXDVz7R78"
      }
    },
    {
      "cell_type": "code",
      "source": [
        "!pip install face_recognition"
      ],
      "metadata": {
        "id": "NRTqkMFe7T-S"
      },
      "execution_count": null,
      "outputs": []
    },
    {
      "cell_type": "markdown",
      "source": [
        "## 載入套件"
      ],
      "metadata": {
        "id": "5gK1nrdf39n0"
      }
    },
    {
      "cell_type": "code",
      "execution_count": null,
      "metadata": {
        "id": "uQf0Tx0O3p4w"
      },
      "outputs": [],
      "source": [
        "from PIL import Image, ImageDraw\n",
        "import face_recognition"
      ]
    },
    {
      "cell_type": "markdown",
      "source": [
        "## 讀取圖形"
      ],
      "metadata": {
        "id": "KKoVBhHa4FS1"
      }
    },
    {
      "cell_type": "code",
      "source": [
        "image = face_recognition.load_image_file(\"lin.jpg\")"
      ],
      "metadata": {
        "id": "j_JGlp984Fz8"
      },
      "execution_count": null,
      "outputs": []
    },
    {
      "cell_type": "markdown",
      "source": [
        "## 人臉偵測"
      ],
      "metadata": {
        "id": "L-HLNkSj4I7L"
      }
    },
    {
      "cell_type": "code",
      "source": [
        "face_locations = face_recognition.face_locations(image)"
      ],
      "metadata": {
        "id": "GHgS7isY4OL0"
      },
      "execution_count": null,
      "outputs": []
    },
    {
      "cell_type": "markdown",
      "source": [
        "## 標出人臉位置"
      ],
      "metadata": {
        "id": "NbgU6RHy40cZ"
      }
    },
    {
      "cell_type": "code",
      "source": [
        "img = Image.fromarray(image)"
      ],
      "metadata": {
        "id": "cPKogzfM4mF6"
      },
      "execution_count": null,
      "outputs": []
    },
    {
      "cell_type": "code",
      "source": [
        "draw = ImageDraw.Draw(img)"
      ],
      "metadata": {
        "id": "LVltMQ7s43mc"
      },
      "execution_count": null,
      "outputs": []
    },
    {
      "cell_type": "code",
      "source": [
        "for face_location in face_locations:\n",
        "  top, right, bottom, left = face_location\n",
        "  draw.rectangle((left, top, right, bottom), outline=\"red\", width=2)"
      ],
      "metadata": {
        "id": "_8Lu5S2H4_BW"
      },
      "execution_count": null,
      "outputs": []
    },
    {
      "cell_type": "code",
      "source": [
        "img"
      ],
      "metadata": {
        "id": "GfhR84R65D2q"
      },
      "execution_count": null,
      "outputs": []
    }
  ]
}