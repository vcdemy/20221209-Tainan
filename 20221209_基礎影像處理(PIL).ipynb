{
  "nbformat": 4,
  "nbformat_minor": 0,
  "metadata": {
    "colab": {
      "provenance": [],
      "authorship_tag": "ABX9TyOD2WZ9EiPu3BGhaHD3gv3B",
      "include_colab_link": true
    },
    "kernelspec": {
      "name": "python3",
      "display_name": "Python 3"
    },
    "language_info": {
      "name": "python"
    }
  },
  "cells": [
    {
      "cell_type": "markdown",
      "metadata": {
        "id": "view-in-github",
        "colab_type": "text"
      },
      "source": [
        "<a href=\"https://colab.research.google.com/github/vcdemy/20221209-Tainan/blob/main/20221209_%E5%9F%BA%E7%A4%8E%E5%BD%B1%E5%83%8F%E8%99%95%E7%90%86(PIL).ipynb\" target=\"_parent\"><img src=\"https://colab.research.google.com/assets/colab-badge.svg\" alt=\"Open In Colab\"/></a>"
      ]
    },
    {
      "cell_type": "markdown",
      "source": [
        "# 基礎影像處理"
      ],
      "metadata": {
        "id": "L9dfxywZ3K5E"
      }
    },
    {
      "cell_type": "markdown",
      "source": [
        "## 載入模組"
      ],
      "metadata": {
        "id": "SZjmCd0C7EO5"
      }
    },
    {
      "cell_type": "code",
      "source": [
        "from PIL import Image"
      ],
      "metadata": {
        "id": "fNIHKvXQ6JEc"
      },
      "execution_count": null,
      "outputs": []
    },
    {
      "cell_type": "markdown",
      "source": [
        "## 讀取圖片"
      ],
      "metadata": {
        "id": "snnDU7fd7Hj-"
      }
    },
    {
      "cell_type": "code",
      "source": [
        "img = Image.open('lin.jpg')"
      ],
      "metadata": {
        "id": "esInBTkb7DLM"
      },
      "execution_count": null,
      "outputs": []
    },
    {
      "cell_type": "code",
      "source": [
        "img"
      ],
      "metadata": {
        "id": "FZoCe_u67S2d"
      },
      "execution_count": null,
      "outputs": []
    },
    {
      "cell_type": "markdown",
      "source": [
        "## 轉換成單色圖片"
      ],
      "metadata": {
        "id": "ubCkMnbW7eHq"
      }
    },
    {
      "cell_type": "code",
      "source": [
        "img_gray = img.convert('L')"
      ],
      "metadata": {
        "id": "wihfUD527T3l"
      },
      "execution_count": null,
      "outputs": []
    },
    {
      "cell_type": "code",
      "source": [
        "img_gray"
      ],
      "metadata": {
        "id": "I5x6uXp07gcF"
      },
      "execution_count": null,
      "outputs": []
    },
    {
      "cell_type": "markdown",
      "source": [
        "## 儲存圖片檔"
      ],
      "metadata": {
        "id": "oa4DHCw-7jVp"
      }
    },
    {
      "cell_type": "code",
      "source": [
        "img_gray.save('lin_gray.jpg')"
      ],
      "metadata": {
        "id": "R_QolHXe7hcs"
      },
      "execution_count": null,
      "outputs": []
    },
    {
      "cell_type": "markdown",
      "source": [
        "## 在圖片上畫框框"
      ],
      "metadata": {
        "id": "RAduEBnn7uQM"
      }
    },
    {
      "cell_type": "code",
      "source": [
        "from PIL import ImageDraw"
      ],
      "metadata": {
        "id": "RnYbLm9R7qok"
      },
      "execution_count": null,
      "outputs": []
    },
    {
      "cell_type": "code",
      "source": [
        "draw = ImageDraw.Draw(img)"
      ],
      "metadata": {
        "id": "H-SnGTpv73TV"
      },
      "execution_count": null,
      "outputs": []
    },
    {
      "cell_type": "code",
      "source": [
        "draw.rectangle((10, 10, 100, 100), outline='red', width=5)"
      ],
      "metadata": {
        "id": "mn_heXQ0767d"
      },
      "execution_count": null,
      "outputs": []
    },
    {
      "cell_type": "code",
      "source": [
        "img"
      ],
      "metadata": {
        "id": "oCzNljc08Gd1"
      },
      "execution_count": null,
      "outputs": []
    }
  ]
}