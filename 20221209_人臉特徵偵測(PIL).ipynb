{
  "nbformat": 4,
  "nbformat_minor": 0,
  "metadata": {
    "colab": {
      "provenance": [],
      "authorship_tag": "ABX9TyN1mJi07cXPfOkPXlxAnXZI",
      "include_colab_link": true
    },
    "kernelspec": {
      "name": "python3",
      "display_name": "Python 3"
    },
    "language_info": {
      "name": "python"
    }
  },
  "cells": [
    {
      "cell_type": "markdown",
      "metadata": {
        "id": "view-in-github",
        "colab_type": "text"
      },
      "source": [
        "<a href=\"https://colab.research.google.com/github/vcdemy/20221209-Tainan/blob/main/20221209_%E4%BA%BA%E8%87%89%E7%89%B9%E5%BE%B5%E5%81%B5%E6%B8%AC(PIL).ipynb\" target=\"_parent\"><img src=\"https://colab.research.google.com/assets/colab-badge.svg\" alt=\"Open In Colab\"/></a>"
      ]
    },
    {
      "cell_type": "markdown",
      "source": [
        "# 人臉特徵偵測"
      ],
      "metadata": {
        "id": "39XqNIaX1iXd"
      }
    },
    {
      "cell_type": "markdown",
      "source": [
        "## 載入套件"
      ],
      "metadata": {
        "id": "bBJ5f8qO2Q2v"
      }
    },
    {
      "cell_type": "code",
      "source": [
        "from PIL import Image, ImageDraw\n",
        "import face_recognition"
      ],
      "metadata": {
        "id": "LbijqPh81sRi"
      },
      "execution_count": null,
      "outputs": []
    },
    {
      "cell_type": "markdown",
      "source": [
        "## 讀取圖形"
      ],
      "metadata": {
        "id": "o_VZMvZo2Wb5"
      }
    },
    {
      "cell_type": "code",
      "source": [
        "image = face_recognition.load_image_file(\"lin.jpg\")"
      ],
      "metadata": {
        "id": "1HC-oY612aE_"
      },
      "execution_count": null,
      "outputs": []
    },
    {
      "cell_type": "markdown",
      "source": [
        "## 讀取人臉特徵"
      ],
      "metadata": {
        "id": "gDEykbtV2crc"
      }
    },
    {
      "cell_type": "code",
      "source": [
        "face_landmarks_list = face_recognition.face_landmarks(image)"
      ],
      "metadata": {
        "id": "fd-GFubO2hcS"
      },
      "execution_count": null,
      "outputs": []
    },
    {
      "cell_type": "code",
      "source": [
        "number_of_faces = len(face_landmarks_list)"
      ],
      "metadata": {
        "id": "bVFeeO8q2sXN"
      },
      "execution_count": null,
      "outputs": []
    },
    {
      "cell_type": "code",
      "source": [
        "number_of_faces"
      ],
      "metadata": {
        "id": "nmj1CTdC2s_5"
      },
      "execution_count": null,
      "outputs": []
    },
    {
      "cell_type": "markdown",
      "source": [
        "# 畫出人臉特徵"
      ],
      "metadata": {
        "id": "kOayPlw32J_h"
      }
    },
    {
      "cell_type": "code",
      "source": [
        "img = Image.fromarray(image)"
      ],
      "metadata": {
        "id": "2ab5T3M12xEr"
      },
      "execution_count": null,
      "outputs": []
    },
    {
      "cell_type": "code",
      "source": [
        "draw = ImageDraw.Draw(img)"
      ],
      "metadata": {
        "id": "BzoqYVx22zSo"
      },
      "execution_count": null,
      "outputs": []
    },
    {
      "cell_type": "code",
      "source": [
        "for face_landmarks in face_landmarks_list:\n",
        "    for name, list_of_points in face_landmarks.items():\n",
        "        draw.line(list_of_points, fill=\"red\", width=2)"
      ],
      "metadata": {
        "id": "0UqJzjIG2I3l"
      },
      "execution_count": null,
      "outputs": []
    },
    {
      "cell_type": "code",
      "source": [
        "img"
      ],
      "metadata": {
        "id": "Ln0-94mn225k"
      },
      "execution_count": null,
      "outputs": []
    }
  ]
}